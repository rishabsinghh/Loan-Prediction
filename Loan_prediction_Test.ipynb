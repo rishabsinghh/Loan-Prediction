{
  "nbformat": 4,
  "nbformat_minor": 0,
  "metadata": {
    "colab": {
      "name": "Loan_prediction Test.ipynb",
      "provenance": []
    },
    "kernelspec": {
      "name": "python3",
      "display_name": "Python 3"
    }
  },
  "cells": [
    {
      "cell_type": "code",
      "metadata": {
        "id": "Ct2O4wWVVIh5",
        "colab_type": "code",
        "colab": {}
      },
      "source": [
        "import pandas as pd\n",
        "import matplotlib.pyplot as plt\n",
        "import numpy as np \n"
      ],
      "execution_count": null,
      "outputs": []
    },
    {
      "cell_type": "code",
      "metadata": {
        "id": "um2iSmD-VVnJ",
        "colab_type": "code",
        "colab": {}
      },
      "source": [
        "data=pd.read_csv('Test.csv')"
      ],
      "execution_count": null,
      "outputs": []
    },
    {
      "cell_type": "code",
      "metadata": {
        "id": "giTgMO3bVfhj",
        "colab_type": "code",
        "colab": {
          "base_uri": "https://localhost:8080/",
          "height": 340
        },
        "outputId": "8a2b9a1f-9d26-47c2-c692-3371995ec7c2"
      },
      "source": [
        "data.info()\n"
      ],
      "execution_count": null,
      "outputs": [
        {
          "output_type": "stream",
          "text": [
            "<class 'pandas.core.frame.DataFrame'>\n",
            "RangeIndex: 367 entries, 0 to 366\n",
            "Data columns (total 12 columns):\n",
            " #   Column             Non-Null Count  Dtype  \n",
            "---  ------             --------------  -----  \n",
            " 0   Loan_ID            367 non-null    object \n",
            " 1   Gender             356 non-null    object \n",
            " 2   Married            367 non-null    object \n",
            " 3   Dependents         357 non-null    object \n",
            " 4   Education          367 non-null    object \n",
            " 5   Self_Employed      344 non-null    object \n",
            " 6   ApplicantIncome    367 non-null    int64  \n",
            " 7   CoapplicantIncome  367 non-null    int64  \n",
            " 8   LoanAmount         362 non-null    float64\n",
            " 9   Loan_Amount_Term   361 non-null    float64\n",
            " 10  Credit_History     338 non-null    float64\n",
            " 11  Property_Area      367 non-null    object \n",
            "dtypes: float64(3), int64(2), object(7)\n",
            "memory usage: 34.5+ KB\n"
          ],
          "name": "stdout"
        }
      ]
    },
    {
      "cell_type": "code",
      "metadata": {
        "id": "lRxKjczEVoOb",
        "colab_type": "code",
        "colab": {
          "base_uri": "https://localhost:8080/",
          "height": 238
        },
        "outputId": "057654ee-38e7-4915-f3e4-5b463293ca4f"
      },
      "source": [
        "data.isnull().sum()"
      ],
      "execution_count": null,
      "outputs": [
        {
          "output_type": "execute_result",
          "data": {
            "text/plain": [
              "Loan_ID               0\n",
              "Gender               11\n",
              "Married               0\n",
              "Dependents           10\n",
              "Education             0\n",
              "Self_Employed        23\n",
              "ApplicantIncome       0\n",
              "CoapplicantIncome     0\n",
              "LoanAmount            5\n",
              "Loan_Amount_Term      6\n",
              "Credit_History       29\n",
              "Property_Area         0\n",
              "dtype: int64"
            ]
          },
          "metadata": {
            "tags": []
          },
          "execution_count": 4
        }
      ]
    },
    {
      "cell_type": "code",
      "metadata": {
        "id": "Uz-EB58NYJRm",
        "colab_type": "code",
        "colab": {}
      },
      "source": [
        "features_na=[feature for feature in data.columns if data[feature].isnull().sum()>=1]"
      ],
      "execution_count": null,
      "outputs": []
    },
    {
      "cell_type": "code",
      "metadata": {
        "id": "QR12SbFHYZe2",
        "colab_type": "code",
        "colab": {}
      },
      "source": [
        "features_num=[feature for feature in data.columns if data[feature].dtype!='O']"
      ],
      "execution_count": null,
      "outputs": []
    },
    {
      "cell_type": "code",
      "metadata": {
        "id": "DncGYwfaYb39",
        "colab_type": "code",
        "colab": {}
      },
      "source": [
        "discrete_variables=[feature for feature in features_num if len(data[feature].unique())<25]"
      ],
      "execution_count": null,
      "outputs": []
    },
    {
      "cell_type": "code",
      "metadata": {
        "id": "2SrPw7aeYihp",
        "colab_type": "code",
        "colab": {}
      },
      "source": [
        "continuous_variables=[feature for feature in features_num if feature not in discrete_variables and feature not in['Loan_ID ']] "
      ],
      "execution_count": null,
      "outputs": []
    },
    {
      "cell_type": "code",
      "metadata": {
        "id": "KyO4CfqXY3VM",
        "colab_type": "code",
        "colab": {}
      },
      "source": [
        "categorical_features=[feature for feature in data.columns if data[feature].dtype=='O']"
      ],
      "execution_count": null,
      "outputs": []
    },
    {
      "cell_type": "code",
      "metadata": {
        "id": "oBa2e6JcVzUW",
        "colab_type": "code",
        "colab": {}
      },
      "source": [
        "data['Gender'].replace('Male',0,inplace=True)\n",
        "data['Gender'].replace('Female',1,inplace=True)\n",
        "data['Married'].replace('No',0,inplace=True)\n",
        "data['Married'].replace('Yes',1,inplace=True)\n",
        "data['Education'].replace('Not Graduate',0,inplace=True)\n",
        "data['Education'].replace('Graduate',1,inplace=True)\n",
        "data['Self_Employed'].replace('No',0,inplace=True)\n",
        "data['Self_Employed'].replace('Yes',1,inplace=True)\n",
        "data['Dependents'].replace('3+',3,inplace=True)\n",
        "data['Property_Area'].replace('Urban',0,inplace=True)\n",
        "data['Property_Area'].replace('Rural',1,inplace=True)\n",
        "data['Property_Area'].replace('Semiurban',2,inplace=True)\n"
      ],
      "execution_count": null,
      "outputs": []
    },
    {
      "cell_type": "code",
      "metadata": {
        "id": "bIKuDHQtYy8m",
        "colab_type": "code",
        "colab": {}
      },
      "source": [
        "def replace_cat_feat(data,features_cat_na):\n",
        "  dataset=data.copy()\n",
        "  for feature in features_cat_na:\n",
        "    dataset[features_cat_na]=dataset[features_cat_na].fillna(dataset[feature].mode()[0])\n",
        "\n",
        "  \n",
        "  return dataset"
      ],
      "execution_count": null,
      "outputs": []
    },
    {
      "cell_type": "code",
      "metadata": {
        "id": "b4S-_MdjY2fV",
        "colab_type": "code",
        "colab": {}
      },
      "source": [
        "features_cat_na=[feature for feature in features_na if feature in categorical_features]"
      ],
      "execution_count": null,
      "outputs": []
    },
    {
      "cell_type": "code",
      "metadata": {
        "id": "cTUxDFwKYhrh",
        "colab_type": "code",
        "colab": {}
      },
      "source": [
        "data=replace_cat_feat(data,features_cat_na)"
      ],
      "execution_count": null,
      "outputs": []
    },
    {
      "cell_type": "code",
      "metadata": {
        "id": "_HfOyVRZWBIr",
        "colab_type": "code",
        "colab": {
          "base_uri": "https://localhost:8080/",
          "height": 238
        },
        "outputId": "6d13c20d-8fc2-4c59-f54d-bf5357c9d7dc"
      },
      "source": [
        "data.isnull().sum()"
      ],
      "execution_count": null,
      "outputs": [
        {
          "output_type": "execute_result",
          "data": {
            "text/plain": [
              "Loan_ID               0\n",
              "Gender                0\n",
              "Married               0\n",
              "Dependents            0\n",
              "Education             0\n",
              "Self_Employed         0\n",
              "ApplicantIncome       0\n",
              "CoapplicantIncome     0\n",
              "LoanAmount            5\n",
              "Loan_Amount_Term      6\n",
              "Credit_History       29\n",
              "Property_Area         0\n",
              "dtype: int64"
            ]
          },
          "metadata": {
            "tags": []
          },
          "execution_count": 14
        }
      ]
    },
    {
      "cell_type": "code",
      "metadata": {
        "id": "odU3JjMZdF3x",
        "colab_type": "code",
        "colab": {}
      },
      "source": [
        "num_feature=[feature for feature in features_na if feature in features_num]"
      ],
      "execution_count": null,
      "outputs": []
    },
    {
      "cell_type": "code",
      "metadata": {
        "id": "sM18FnBCiyoF",
        "colab_type": "code",
        "colab": {
          "base_uri": "https://localhost:8080/",
          "height": 419
        },
        "outputId": "78a32ea7-e6ca-4275-a28e-bc65624599ef"
      },
      "source": [
        "data[num_feature].drop(['Credit_History'],axis=1)"
      ],
      "execution_count": null,
      "outputs": [
        {
          "output_type": "execute_result",
          "data": {
            "text/html": [
              "<div>\n",
              "<style scoped>\n",
              "    .dataframe tbody tr th:only-of-type {\n",
              "        vertical-align: middle;\n",
              "    }\n",
              "\n",
              "    .dataframe tbody tr th {\n",
              "        vertical-align: top;\n",
              "    }\n",
              "\n",
              "    .dataframe thead th {\n",
              "        text-align: right;\n",
              "    }\n",
              "</style>\n",
              "<table border=\"1\" class=\"dataframe\">\n",
              "  <thead>\n",
              "    <tr style=\"text-align: right;\">\n",
              "      <th></th>\n",
              "      <th>LoanAmount</th>\n",
              "      <th>Loan_Amount_Term</th>\n",
              "    </tr>\n",
              "  </thead>\n",
              "  <tbody>\n",
              "    <tr>\n",
              "      <th>0</th>\n",
              "      <td>110.0</td>\n",
              "      <td>360.0</td>\n",
              "    </tr>\n",
              "    <tr>\n",
              "      <th>1</th>\n",
              "      <td>126.0</td>\n",
              "      <td>360.0</td>\n",
              "    </tr>\n",
              "    <tr>\n",
              "      <th>2</th>\n",
              "      <td>208.0</td>\n",
              "      <td>360.0</td>\n",
              "    </tr>\n",
              "    <tr>\n",
              "      <th>3</th>\n",
              "      <td>100.0</td>\n",
              "      <td>360.0</td>\n",
              "    </tr>\n",
              "    <tr>\n",
              "      <th>4</th>\n",
              "      <td>78.0</td>\n",
              "      <td>360.0</td>\n",
              "    </tr>\n",
              "    <tr>\n",
              "      <th>...</th>\n",
              "      <td>...</td>\n",
              "      <td>...</td>\n",
              "    </tr>\n",
              "    <tr>\n",
              "      <th>362</th>\n",
              "      <td>113.0</td>\n",
              "      <td>360.0</td>\n",
              "    </tr>\n",
              "    <tr>\n",
              "      <th>363</th>\n",
              "      <td>115.0</td>\n",
              "      <td>360.0</td>\n",
              "    </tr>\n",
              "    <tr>\n",
              "      <th>364</th>\n",
              "      <td>126.0</td>\n",
              "      <td>360.0</td>\n",
              "    </tr>\n",
              "    <tr>\n",
              "      <th>365</th>\n",
              "      <td>158.0</td>\n",
              "      <td>360.0</td>\n",
              "    </tr>\n",
              "    <tr>\n",
              "      <th>366</th>\n",
              "      <td>98.0</td>\n",
              "      <td>180.0</td>\n",
              "    </tr>\n",
              "  </tbody>\n",
              "</table>\n",
              "<p>367 rows × 2 columns</p>\n",
              "</div>"
            ],
            "text/plain": [
              "     LoanAmount  Loan_Amount_Term\n",
              "0         110.0             360.0\n",
              "1         126.0             360.0\n",
              "2         208.0             360.0\n",
              "3         100.0             360.0\n",
              "4          78.0             360.0\n",
              "..          ...               ...\n",
              "362       113.0             360.0\n",
              "363       115.0             360.0\n",
              "364       126.0             360.0\n",
              "365       158.0             360.0\n",
              "366        98.0             180.0\n",
              "\n",
              "[367 rows x 2 columns]"
            ]
          },
          "metadata": {
            "tags": []
          },
          "execution_count": 16
        }
      ]
    },
    {
      "cell_type": "code",
      "metadata": {
        "id": "KIlaEznli-Md",
        "colab_type": "code",
        "colab": {}
      },
      "source": [
        "data['Credit_History'].fillna(data['Credit_History'].mode()[0],inplace=True)"
      ],
      "execution_count": null,
      "outputs": []
    },
    {
      "cell_type": "code",
      "metadata": {
        "id": "sTG35qg1jEtV",
        "colab_type": "code",
        "colab": {}
      },
      "source": [
        "for feature in num_feature:\n",
        "  median_values=data[feature].median()\n",
        "  data[feature].fillna(median_values,inplace=True)"
      ],
      "execution_count": null,
      "outputs": []
    },
    {
      "cell_type": "code",
      "metadata": {
        "id": "7voVNbEwjHIp",
        "colab_type": "code",
        "colab": {
          "base_uri": "https://localhost:8080/",
          "height": 238
        },
        "outputId": "4e7706e7-1319-4b42-bd8e-a3b9cb8ea144"
      },
      "source": [
        "data.isnull().sum()"
      ],
      "execution_count": null,
      "outputs": [
        {
          "output_type": "execute_result",
          "data": {
            "text/plain": [
              "Loan_ID              0\n",
              "Gender               0\n",
              "Married              0\n",
              "Dependents           0\n",
              "Education            0\n",
              "Self_Employed        0\n",
              "ApplicantIncome      0\n",
              "CoapplicantIncome    0\n",
              "LoanAmount           0\n",
              "Loan_Amount_Term     0\n",
              "Credit_History       0\n",
              "Property_Area        0\n",
              "dtype: int64"
            ]
          },
          "metadata": {
            "tags": []
          },
          "execution_count": 19
        }
      ]
    },
    {
      "cell_type": "code",
      "metadata": {
        "id": "NjWfbMUgjJc6",
        "colab_type": "code",
        "colab": {}
      },
      "source": [
        "data['ApplicantIncome'].replace(0,data['ApplicantIncome'].median(),inplace=True)\n",
        " \n",
        " "
      ],
      "execution_count": null,
      "outputs": []
    },
    {
      "cell_type": "code",
      "metadata": {
        "id": "l8bp3uV4jNwL",
        "colab_type": "code",
        "colab": {
          "base_uri": "https://localhost:8080/",
          "height": 545
        },
        "outputId": "ae9f7f7e-2401-4979-9d70-03f92f0ac03e"
      },
      "source": [
        "for feature in data[continuous_variables]:\n",
        "     if 0 in data[feature].unique():\n",
        "       pass\n",
        "     else:\n",
        "       data[feature]=np.log(data[feature])\n",
        "       data.boxplot(column=feature)\n",
        "       plt.ylabel(feature)\n",
        "       plt.title(feature)\n",
        "       plt.show()\n",
        "\n",
        "   "
      ],
      "execution_count": null,
      "outputs": [
        {
          "output_type": "display_data",
          "data": {
            "image/png": "[encoded data removed]",
            "text/plain": [
              "<Figure size 432x288 with 1 Axes>"
            ]
          },
          "metadata": {
            "tags": [],
            "needs_background": "light"
          }
        },
        {
          "output_type": "display_data",
          "data": {
            "image/png": "[encoded data removed]",
            "text/plain": [
              "<Figure size 432x288 with 1 Axes>"
            ]
          },
          "metadata": {
            "tags": [],
            "needs_background": "light"
          }
        }
      ]
    },
    {
      "cell_type": "code",
      "metadata": {
        "id": "dRL8nywPjmED",
        "colab_type": "code",
        "colab": {}
      },
      "source": [
        "data['total_income']=data['ApplicantIncome']+data['CoapplicantIncome']\n",
        "data['EMI']=(data['LoanAmount']*0.09*(1.09**data['Loan_Amount_Term']))/(1.09**(data['Loan_Amount_Term']-1))"
      ],
      "execution_count": null,
      "outputs": []
    },
    {
      "cell_type": "code",
      "metadata": {
        "id": "1wsj0QFjkb3d",
        "colab_type": "code",
        "colab": {}
      },
      "source": [
        "data.to_csv('X_test.csv',index=False)"
      ],
      "execution_count": null,
      "outputs": []
    },
    {
      "cell_type": "code",
      "metadata": {
        "id": "5-4SenS4bYlG",
        "colab_type": "code",
        "colab": {}
      },
      "source": [
        ""
      ],
      "execution_count": null,
      "outputs": []
    }
  ]
}