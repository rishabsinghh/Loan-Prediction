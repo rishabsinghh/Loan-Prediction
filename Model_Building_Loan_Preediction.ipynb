{
  "nbformat": 4,
  "nbformat_minor": 0,
  "metadata": {
    "colab": {
      "name": "Model Building Loan Preediction.ipynb",
      "provenance": []
    },
    "kernelspec": {
      "name": "python3",
      "display_name": "Python 3"
    }
  },
  "cells": [
    {
      "cell_type": "code",
      "metadata": {
        "id": "UoCykvpnZLPE",
        "colab_type": "code",
        "colab": {}
      },
      "source": [
        "#metrics\n",
        "from sklearn.model_selection import GridSearchCV\n",
        "from sklearn.model_selection import cross_val_score\n",
        "from sklearn.metrics import accuracy_score\n",
        "from sklearn.metrics import confusion_matrix\n",
        "from sklearn.metrics import make_scorer\n",
        "from sklearn.metrics import roc_curve\n",
        "from sklearn.metrics import roc_auc_score\n",
        "\n",
        "#Models\n",
        "from sklearn.linear_model import LogisticRegression\n",
        "from sklearn.neighbors import KNeighborsClassifier\n",
        "from sklearn.svm import LinearSVC\n",
        "from sklearn.ensemble import RandomForestClassifier\n",
        "from xgboost import XGBClassifier\n",
        "\n",
        "import pandas as pd\n",
        "import matplotlib.pyplot as plt\n",
        "import numpy as np\n",
        "\n"
      ],
      "execution_count": 1,
      "outputs": []
    },
    {
      "cell_type": "code",
      "metadata": {
        "id": "ZSk01_naZasL",
        "colab_type": "code",
        "colab": {
          "base_uri": "https://localhost:8080/",
          "height": 224
        },
        "outputId": "0715a44d-b98f-4654-9f12-a1f6661d8a08"
      },
      "source": [
        "data=pd.read_csv('Dataset1.csv')\n",
        "data.head()"
      ],
      "execution_count": 6,
      "outputs": [
        {
          "output_type": "execute_result",
          "data": {
            "text/html": [
              "<div>\n",
              "<style scoped>\n",
              "    .dataframe tbody tr th:only-of-type {\n",
              "        vertical-align: middle;\n",
              "    }\n",
              "\n",
              "    .dataframe tbody tr th {\n",
              "        vertical-align: top;\n",
              "    }\n",
              "\n",
              "    .dataframe thead th {\n",
              "        text-align: right;\n",
              "    }\n",
              "</style>\n",
              "<table border=\"1\" class=\"dataframe\">\n",
              "  <thead>\n",
              "    <tr style=\"text-align: right;\">\n",
              "      <th></th>\n",
              "      <th>Loan_ID</th>\n",
              "      <th>Gender</th>\n",
              "      <th>Married</th>\n",
              "      <th>Dependents</th>\n",
              "      <th>Education</th>\n",
              "      <th>Self_Employed</th>\n",
              "      <th>ApplicantIncome</th>\n",
              "      <th>CoapplicantIncome</th>\n",
              "      <th>LoanAmount</th>\n",
              "      <th>Loan_Amount_Term</th>\n",
              "      <th>Credit_History</th>\n",
              "      <th>Property_Area</th>\n",
              "      <th>Loan_Status</th>\n",
              "    </tr>\n",
              "  </thead>\n",
              "  <tbody>\n",
              "    <tr>\n",
              "      <th>0</th>\n",
              "      <td>LP001002</td>\n",
              "      <td>0.0</td>\n",
              "      <td>0.0</td>\n",
              "      <td>0.0</td>\n",
              "      <td>1</td>\n",
              "      <td>0.0</td>\n",
              "      <td>2.160333</td>\n",
              "      <td>0.0</td>\n",
              "      <td>1.579397</td>\n",
              "      <td>360.0</td>\n",
              "      <td>1.0</td>\n",
              "      <td>0</td>\n",
              "      <td>Y</td>\n",
              "    </tr>\n",
              "    <tr>\n",
              "      <th>1</th>\n",
              "      <td>LP001003</td>\n",
              "      <td>0.0</td>\n",
              "      <td>1.0</td>\n",
              "      <td>1.0</td>\n",
              "      <td>1</td>\n",
              "      <td>0.0</td>\n",
              "      <td>2.131810</td>\n",
              "      <td>1508.0</td>\n",
              "      <td>1.579397</td>\n",
              "      <td>360.0</td>\n",
              "      <td>1.0</td>\n",
              "      <td>1</td>\n",
              "      <td>N</td>\n",
              "    </tr>\n",
              "    <tr>\n",
              "      <th>2</th>\n",
              "      <td>LP001005</td>\n",
              "      <td>0.0</td>\n",
              "      <td>1.0</td>\n",
              "      <td>0.0</td>\n",
              "      <td>1</td>\n",
              "      <td>1.0</td>\n",
              "      <td>2.080237</td>\n",
              "      <td>0.0</td>\n",
              "      <td>1.432618</td>\n",
              "      <td>360.0</td>\n",
              "      <td>1.0</td>\n",
              "      <td>0</td>\n",
              "      <td>Y</td>\n",
              "    </tr>\n",
              "    <tr>\n",
              "      <th>3</th>\n",
              "      <td>LP001006</td>\n",
              "      <td>0.0</td>\n",
              "      <td>1.0</td>\n",
              "      <td>0.0</td>\n",
              "      <td>0</td>\n",
              "      <td>0.0</td>\n",
              "      <td>2.061368</td>\n",
              "      <td>2358.0</td>\n",
              "      <td>1.566007</td>\n",
              "      <td>360.0</td>\n",
              "      <td>1.0</td>\n",
              "      <td>0</td>\n",
              "      <td>Y</td>\n",
              "    </tr>\n",
              "    <tr>\n",
              "      <th>4</th>\n",
              "      <td>LP001008</td>\n",
              "      <td>0.0</td>\n",
              "      <td>0.0</td>\n",
              "      <td>0.0</td>\n",
              "      <td>1</td>\n",
              "      <td>0.0</td>\n",
              "      <td>2.163267</td>\n",
              "      <td>0.0</td>\n",
              "      <td>1.599137</td>\n",
              "      <td>360.0</td>\n",
              "      <td>1.0</td>\n",
              "      <td>0</td>\n",
              "      <td>Y</td>\n",
              "    </tr>\n",
              "  </tbody>\n",
              "</table>\n",
              "</div>"
            ],
            "text/plain": [
              "    Loan_ID  Gender  Married  ...  Credit_History  Property_Area  Loan_Status\n",
              "0  LP001002     0.0      0.0  ...             1.0              0            Y\n",
              "1  LP001003     0.0      1.0  ...             1.0              1            N\n",
              "2  LP001005     0.0      1.0  ...             1.0              0            Y\n",
              "3  LP001006     0.0      1.0  ...             1.0              0            Y\n",
              "4  LP001008     0.0      0.0  ...             1.0              0            Y\n",
              "\n",
              "[5 rows x 13 columns]"
            ]
          },
          "metadata": {
            "tags": []
          },
          "execution_count": 6
        }
      ]
    },
    {
      "cell_type": "code",
      "metadata": {
        "id": "RKnvPnCoco-v",
        "colab_type": "code",
        "colab": {}
      },
      "source": [
        "X=data.drop(['Loan_ID','Loan_Status'],axis=1)\n",
        "y=data['Loan_Status']\n",
        "test=pd.read_csv('X_test.csv')\n",
        "X_test=test.drop(['Loan_ID'],axis=1)"
      ],
      "execution_count": 35,
      "outputs": []
    },
    {
      "cell_type": "code",
      "metadata": {
        "id": "B5l0fXFVdGyY",
        "colab_type": "code",
        "colab": {
          "base_uri": "https://localhost:8080/",
          "height": 34
        },
        "outputId": "38054c81-0df2-4ecb-a4f0-98498ecb3e32"
      },
      "source": [
        "logistic_reg=LogisticRegression(max_iter=400)\n",
        "logistic_reg.fit(X,y)\n",
        "score1=cross_val_score(logistic_reg,X,y,cv=10)\n",
        "print(score1.mean())\n",
        "predict1=logistic_reg.predict(X_test)\n",
        "\n"
      ],
      "execution_count": 36,
      "outputs": [
        {
          "output_type": "stream",
          "text": [
            "0.8095716552088842\n"
          ],
          "name": "stdout"
        }
      ]
    },
    {
      "cell_type": "code",
      "metadata": {
        "id": "56xqGFh9e5iT",
        "colab_type": "code",
        "colab": {
          "base_uri": "https://localhost:8080/",
          "height": 34
        },
        "outputId": "39ec98db-87e4-4578-9107-3a8b2a91bc01"
      },
      "source": [
        "clf=LinearSVC(dual=False,max_iter=1000,C=10)\n",
        "clf.fit(X,y)\n",
        "score2=cross_val_score(clf,X,y,cv=10)\n",
        "print(score2.mean())\n",
        "predict2=clf.predict(X_test)\n"
      ],
      "execution_count": 37,
      "outputs": [
        {
          "output_type": "stream",
          "text": [
            "0.8095716552088842\n"
          ],
          "name": "stdout"
        }
      ]
    },
    {
      "cell_type": "code",
      "metadata": {
        "id": "EtPhxulXByXn",
        "colab_type": "code",
        "colab": {
          "base_uri": "https://localhost:8080/",
          "height": 34
        },
        "outputId": "8cfa1041-ca5a-4dfc-c552-d410e761d6ce"
      },
      "source": [
        "knn_clf=KNeighborsClassifier(n_neighbors=100)\n",
        "knn_clf.fit(X,y)\n",
        "score3=cross_val_score(knn_clf,X,y,cv=10)\n",
        "print(score3.mean())"
      ],
      "execution_count": 10,
      "outputs": [
        {
          "output_type": "stream",
          "text": [
            "0.6873083024854575\n"
          ],
          "name": "stdout"
        }
      ]
    },
    {
      "cell_type": "code",
      "metadata": {
        "id": "GwbVsdU2Cm6F",
        "colab_type": "code",
        "colab": {
          "base_uri": "https://localhost:8080/",
          "height": 34
        },
        "outputId": "07cc2576-0fae-49e6-99c6-7f68e85c9b5a"
      },
      "source": [
        "clf_rf=RandomForestClassifier(n_estimators=100,criterion='gini',n_jobs=-1,bootstrap=True,max_depth=5)\n",
        "clf_rf.fit(X,y)\n",
        "score4=cross_val_score(clf_rf,X,y,cv=10)\n",
        "print(score4.mean())"
      ],
      "execution_count": 20,
      "outputs": [
        {
          "output_type": "stream",
          "text": [
            "0.8063194077207825\n"
          ],
          "name": "stdout"
        }
      ]
    },
    {
      "cell_type": "code",
      "metadata": {
        "id": "72UYmhmdDHak",
        "colab_type": "code",
        "colab": {
          "base_uri": "https://localhost:8080/",
          "height": 34
        },
        "outputId": "51457998-a9c4-4a25-9167-a82fce382321"
      },
      "source": [
        "clf_boost=XGBClassifier(max_depth=1,booster='gbtree',n_jobs=1,n_estimators=100,learning_rate=0.01,min_child_weight=1)\n",
        "clf_boost.fit(X,y)\n",
        "score5=cross_val_score(clf_boost,X,y,cv=10)\n",
        "print(score5.mean())"
      ],
      "execution_count": 12,
      "outputs": [
        {
          "output_type": "stream",
          "text": [
            "0.8095716552088842\n"
          ],
          "name": "stdout"
        }
      ]
    },
    {
      "cell_type": "code",
      "metadata": {
        "id": "RAJB3iCUjgx1",
        "colab_type": "code",
        "colab": {
          "base_uri": "https://localhost:8080/",
          "height": 439
        },
        "outputId": "70af5cc6-ca1d-45de-bf1a-812eedad1f17"
      },
      "source": [
        "pd.DataFrame(X)"
      ],
      "execution_count": null,
      "outputs": [
        {
          "output_type": "execute_result",
          "data": {
            "text/html": [
              "<div>\n",
              "<style scoped>\n",
              "    .dataframe tbody tr th:only-of-type {\n",
              "        vertical-align: middle;\n",
              "    }\n",
              "\n",
              "    .dataframe tbody tr th {\n",
              "        vertical-align: top;\n",
              "    }\n",
              "\n",
              "    .dataframe thead th {\n",
              "        text-align: right;\n",
              "    }\n",
              "</style>\n",
              "<table border=\"1\" class=\"dataframe\">\n",
              "  <thead>\n",
              "    <tr style=\"text-align: right;\">\n",
              "      <th></th>\n",
              "      <th>Gender</th>\n",
              "      <th>Married</th>\n",
              "      <th>Dependents</th>\n",
              "      <th>Education</th>\n",
              "      <th>Self_Employed</th>\n",
              "      <th>ApplicantIncome</th>\n",
              "      <th>CoapplicantIncome</th>\n",
              "      <th>LoanAmount</th>\n",
              "      <th>Loan_Amount_Term</th>\n",
              "      <th>Credit_History</th>\n",
              "      <th>Property_Area</th>\n",
              "    </tr>\n",
              "  </thead>\n",
              "  <tbody>\n",
              "    <tr>\n",
              "      <th>0</th>\n",
              "      <td>0.0</td>\n",
              "      <td>0.0</td>\n",
              "      <td>0.0</td>\n",
              "      <td>1</td>\n",
              "      <td>0.0</td>\n",
              "      <td>2.160333</td>\n",
              "      <td>0.0</td>\n",
              "      <td>1.579397</td>\n",
              "      <td>360.0</td>\n",
              "      <td>1.0</td>\n",
              "      <td>0</td>\n",
              "    </tr>\n",
              "    <tr>\n",
              "      <th>1</th>\n",
              "      <td>0.0</td>\n",
              "      <td>1.0</td>\n",
              "      <td>1.0</td>\n",
              "      <td>1</td>\n",
              "      <td>0.0</td>\n",
              "      <td>2.131810</td>\n",
              "      <td>1508.0</td>\n",
              "      <td>1.579397</td>\n",
              "      <td>360.0</td>\n",
              "      <td>1.0</td>\n",
              "      <td>1</td>\n",
              "    </tr>\n",
              "    <tr>\n",
              "      <th>2</th>\n",
              "      <td>0.0</td>\n",
              "      <td>1.0</td>\n",
              "      <td>0.0</td>\n",
              "      <td>1</td>\n",
              "      <td>1.0</td>\n",
              "      <td>2.080237</td>\n",
              "      <td>0.0</td>\n",
              "      <td>1.432618</td>\n",
              "      <td>360.0</td>\n",
              "      <td>1.0</td>\n",
              "      <td>0</td>\n",
              "    </tr>\n",
              "    <tr>\n",
              "      <th>3</th>\n",
              "      <td>0.0</td>\n",
              "      <td>1.0</td>\n",
              "      <td>0.0</td>\n",
              "      <td>0</td>\n",
              "      <td>0.0</td>\n",
              "      <td>2.061368</td>\n",
              "      <td>2358.0</td>\n",
              "      <td>1.566007</td>\n",
              "      <td>360.0</td>\n",
              "      <td>1.0</td>\n",
              "      <td>0</td>\n",
              "    </tr>\n",
              "    <tr>\n",
              "      <th>4</th>\n",
              "      <td>0.0</td>\n",
              "      <td>0.0</td>\n",
              "      <td>0.0</td>\n",
              "      <td>1</td>\n",
              "      <td>0.0</td>\n",
              "      <td>2.163267</td>\n",
              "      <td>0.0</td>\n",
              "      <td>1.599137</td>\n",
              "      <td>360.0</td>\n",
              "      <td>1.0</td>\n",
              "      <td>0</td>\n",
              "    </tr>\n",
              "    <tr>\n",
              "      <th>...</th>\n",
              "      <td>...</td>\n",
              "      <td>...</td>\n",
              "      <td>...</td>\n",
              "      <td>...</td>\n",
              "      <td>...</td>\n",
              "      <td>...</td>\n",
              "      <td>...</td>\n",
              "      <td>...</td>\n",
              "      <td>...</td>\n",
              "      <td>...</td>\n",
              "      <td>...</td>\n",
              "    </tr>\n",
              "    <tr>\n",
              "      <th>609</th>\n",
              "      <td>1.0</td>\n",
              "      <td>0.0</td>\n",
              "      <td>0.0</td>\n",
              "      <td>1</td>\n",
              "      <td>0.0</td>\n",
              "      <td>2.075994</td>\n",
              "      <td>0.0</td>\n",
              "      <td>1.449898</td>\n",
              "      <td>360.0</td>\n",
              "      <td>1.0</td>\n",
              "      <td>1</td>\n",
              "    </tr>\n",
              "    <tr>\n",
              "      <th>610</th>\n",
              "      <td>0.0</td>\n",
              "      <td>1.0</td>\n",
              "      <td>3.0</td>\n",
              "      <td>1</td>\n",
              "      <td>0.0</td>\n",
              "      <td>2.118687</td>\n",
              "      <td>0.0</td>\n",
              "      <td>1.305323</td>\n",
              "      <td>180.0</td>\n",
              "      <td>1.0</td>\n",
              "      <td>1</td>\n",
              "    </tr>\n",
              "    <tr>\n",
              "      <th>611</th>\n",
              "      <td>0.0</td>\n",
              "      <td>1.0</td>\n",
              "      <td>1.0</td>\n",
              "      <td>1</td>\n",
              "      <td>0.0</td>\n",
              "      <td>2.196797</td>\n",
              "      <td>240.0</td>\n",
              "      <td>1.710801</td>\n",
              "      <td>360.0</td>\n",
              "      <td>1.0</td>\n",
              "      <td>0</td>\n",
              "    </tr>\n",
              "    <tr>\n",
              "      <th>612</th>\n",
              "      <td>0.0</td>\n",
              "      <td>1.0</td>\n",
              "      <td>2.0</td>\n",
              "      <td>1</td>\n",
              "      <td>0.0</td>\n",
              "      <td>2.189827</td>\n",
              "      <td>0.0</td>\n",
              "      <td>1.654623</td>\n",
              "      <td>360.0</td>\n",
              "      <td>1.0</td>\n",
              "      <td>0</td>\n",
              "    </tr>\n",
              "    <tr>\n",
              "      <th>613</th>\n",
              "      <td>1.0</td>\n",
              "      <td>0.0</td>\n",
              "      <td>0.0</td>\n",
              "      <td>1</td>\n",
              "      <td>1.0</td>\n",
              "      <td>2.131810</td>\n",
              "      <td>0.0</td>\n",
              "      <td>1.587264</td>\n",
              "      <td>360.0</td>\n",
              "      <td>0.0</td>\n",
              "      <td>2</td>\n",
              "    </tr>\n",
              "  </tbody>\n",
              "</table>\n",
              "<p>614 rows × 11 columns</p>\n",
              "</div>"
            ],
            "text/plain": [
              "     Gender  Married  ...  Credit_History  Property_Area\n",
              "0       0.0      0.0  ...             1.0              0\n",
              "1       0.0      1.0  ...             1.0              1\n",
              "2       0.0      1.0  ...             1.0              0\n",
              "3       0.0      1.0  ...             1.0              0\n",
              "4       0.0      0.0  ...             1.0              0\n",
              "..      ...      ...  ...             ...            ...\n",
              "609     1.0      0.0  ...             1.0              1\n",
              "610     0.0      1.0  ...             1.0              1\n",
              "611     0.0      1.0  ...             1.0              0\n",
              "612     0.0      1.0  ...             1.0              0\n",
              "613     1.0      0.0  ...             0.0              2\n",
              "\n",
              "[614 rows x 11 columns]"
            ]
          },
          "metadata": {
            "tags": []
          },
          "execution_count": 28
        }
      ]
    },
    {
      "cell_type": "code",
      "metadata": {
        "id": "K5bObJsmdR4R",
        "colab_type": "code",
        "colab": {}
      },
      "source": [
        "#hyperparametertuning\n",
        "from sklearn.model_selection import RandomizedSearchCV\n",
        "import random\n",
        "from random import randint\n",
        "parameters=[{'max_depth':[3,5,8,10,None],'n_estimators':[100,500,1000],'max_features':[1,2,3],'criterion':['gini','entropy'],'bootstrap':[True,False],'min_samples_leaf':[1,2,3,4]}]"
      ],
      "execution_count": 13,
      "outputs": []
    },
    {
      "cell_type": "code",
      "metadata": {
        "id": "qYAq3zxAik61",
        "colab_type": "code",
        "colab": {}
      },
      "source": [
        "def hyperparamter_opt(model,parameters):\n",
        "  rst_search=RandomizedSearchCV(model,param_distributions=parameters,n_iter=10,n_jobs=-1,cv=10)\n",
        "  rst_search.fit(X,y)\n",
        "  high_score=rst_search.best_score_\n",
        "  best_paramters=rst_search.best_params_\n",
        "\n",
        "  return high_score,best_paramters\n",
        "\n"
      ],
      "execution_count": 14,
      "outputs": []
    },
    {
      "cell_type": "code",
      "metadata": {
        "id": "daj1dmT6j_2M",
        "colab_type": "code",
        "colab": {
          "base_uri": "https://localhost:8080/",
          "height": 136
        },
        "outputId": "08fe3360-47c5-420a-be64-81e61138485f"
      },
      "source": [
        "hyperparamter_opt(clf_rf,parameters)"
      ],
      "execution_count": 24,
      "outputs": [
        {
          "output_type": "execute_result",
          "data": {
            "text/plain": [
              "(0.8079587519830775,\n",
              " {'bootstrap': True,\n",
              "  'criterion': 'gini',\n",
              "  'max_depth': 8,\n",
              "  'max_features': 1,\n",
              "  'min_samples_leaf': 3,\n",
              "  'n_estimators': 500})"
            ]
          },
          "metadata": {
            "tags": []
          },
          "execution_count": 24
        }
      ]
    },
    {
      "cell_type": "code",
      "metadata": {
        "id": "jWG2HThYlFVB",
        "colab_type": "code",
        "colab": {}
      },
      "source": [
        "parameters1=[{'max_depth':[1,2,3,4,5],'booster':['gbtree','dart'],'learning_rate':[0.05,0.010,0.15,0.20,0.30],'min_child_weight':[1,3,5,7],'gamma':[0.0,0.1,0.2,0.3,0.4],'colsample_bytree':[0.3,0.4,0.5,0.7]}]"
      ],
      "execution_count": 16,
      "outputs": []
    },
    {
      "cell_type": "code",
      "metadata": {
        "id": "yW0h0Q_DrHLI",
        "colab_type": "code",
        "colab": {
          "base_uri": "https://localhost:8080/",
          "height": 136
        },
        "outputId": "e5040a6a-395c-4d3e-bac6-350fbcebdcc7"
      },
      "source": [
        "hyperparamter_opt(clf_boost,parameters1)"
      ],
      "execution_count": 17,
      "outputs": [
        {
          "output_type": "execute_result",
          "data": {
            "text/plain": [
              "(0.8095716552088842,\n",
              " {'booster': 'dart',\n",
              "  'colsample_bytree': 0.7,\n",
              "  'gamma': 0.4,\n",
              "  'learning_rate': 0.01,\n",
              "  'max_depth': 1,\n",
              "  'min_child_weight': 3})"
            ]
          },
          "metadata": {
            "tags": []
          },
          "execution_count": 17
        }
      ]
    },
    {
      "cell_type": "code",
      "metadata": {
        "id": "dMpff-Y5rPRe",
        "colab_type": "code",
        "colab": {
          "base_uri": "https://localhost:8080/",
          "height": 34
        },
        "outputId": "6c2f32a7-66ad-41e2-f0f9-b0db3731355c"
      },
      "source": [
        "clf_rf=RandomForestClassifier(n_estimators=500,criterion='gini',bootstrap=True,max_depth=8,max_features=1,min_samples_leaf=3)\n",
        "clf_rf.fit(X,y)\n",
        "score4=cross_val_score(clf_rf,X,y,cv=10)\n",
        "print(score4.mean())\n",
        "predict3=clf_rf.predict(X_test)"
      ],
      "execution_count": 38,
      "outputs": [
        {
          "output_type": "stream",
          "text": [
            "0.8063194077207825\n"
          ],
          "name": "stdout"
        }
      ]
    },
    {
      "cell_type": "code",
      "metadata": {
        "id": "ZKw8MeNiTOSg",
        "colab_type": "code",
        "colab": {
          "base_uri": "https://localhost:8080/",
          "height": 34
        },
        "outputId": "1f199154-8ad4-4a11-831b-2fa5db11b182"
      },
      "source": [
        "clf_boost=XGBClassifier(max_depth=1,booster='dart',n_jobs=1,n_estimators=100,learning_rate=0.01,min_child_weight=3,colsample_bytree=0.7)\n",
        "clf_boost.fit(X,y)\n",
        "score5=cross_val_score(clf_boost,X,y,cv=10)\n",
        "print(score5.mean())\n",
        "predict4=clf_boost.predict(X_test)"
      ],
      "execution_count": 39,
      "outputs": [
        {
          "output_type": "stream",
          "text": [
            "0.8095716552088842\n"
          ],
          "name": "stdout"
        }
      ]
    },
    {
      "cell_type": "code",
      "metadata": {
        "id": "-13NX1tjVBeH",
        "colab_type": "code",
        "colab": {}
      },
      "source": [
        "logireg_predict=pd.concat([test['Loan_ID'],pd.DataFrame(predict1)],axis=1)\n",
        "logireg_predict.columns=['LoanId','LoanStatus']"
      ],
      "execution_count": 41,
      "outputs": []
    },
    {
      "cell_type": "code",
      "metadata": {
        "id": "j5Hyy224mns9",
        "colab_type": "code",
        "colab": {}
      },
      "source": [
        "SVC_predict=pd.concat([test['Loan_ID'],pd.DataFrame(predict2)],axis=1)\n",
        "SVC_predict.columns=['LoanId','LoanStatus']"
      ],
      "execution_count": 43,
      "outputs": []
    },
    {
      "cell_type": "code",
      "metadata": {
        "id": "0hqW-kFem2oM",
        "colab_type": "code",
        "colab": {}
      },
      "source": [
        "randomforest_predict=pd.concat([test['Loan_ID'],pd.DataFrame(predict3)],axis=1)\n",
        "randomforest_predict.columns=['LoanId','LoanStatus']"
      ],
      "execution_count": 44,
      "outputs": []
    },
    {
      "cell_type": "code",
      "metadata": {
        "id": "AxvZYd4AnB7e",
        "colab_type": "code",
        "colab": {}
      },
      "source": [
        "XGBOOST_predict=pd.concat([test['Loan_ID'],pd.DataFrame(predict4)],axis=1)\n",
        "XGBOOST_predict.columns=['LoanId','LoanStatus']"
      ],
      "execution_count": 45,
      "outputs": []
    },
    {
      "cell_type": "code",
      "metadata": {
        "id": "aOdXsy-OnMjV",
        "colab_type": "code",
        "colab": {
          "base_uri": "https://localhost:8080/",
          "height": 419
        },
        "outputId": "91df7faf-f92d-4d0a-d406-f9490c483981"
      },
      "source": [
        "XGBOOST_predict"
      ],
      "execution_count": 52,
      "outputs": [
        {
          "output_type": "execute_result",
          "data": {
            "text/html": [
              "<div>\n",
              "<style scoped>\n",
              "    .dataframe tbody tr th:only-of-type {\n",
              "        vertical-align: middle;\n",
              "    }\n",
              "\n",
              "    .dataframe tbody tr th {\n",
              "        vertical-align: top;\n",
              "    }\n",
              "\n",
              "    .dataframe thead th {\n",
              "        text-align: right;\n",
              "    }\n",
              "</style>\n",
              "<table border=\"1\" class=\"dataframe\">\n",
              "  <thead>\n",
              "    <tr style=\"text-align: right;\">\n",
              "      <th></th>\n",
              "      <th>LoanId</th>\n",
              "      <th>LoanStatus</th>\n",
              "    </tr>\n",
              "  </thead>\n",
              "  <tbody>\n",
              "    <tr>\n",
              "      <th>0</th>\n",
              "      <td>LP001015</td>\n",
              "      <td>Y</td>\n",
              "    </tr>\n",
              "    <tr>\n",
              "      <th>1</th>\n",
              "      <td>LP001022</td>\n",
              "      <td>Y</td>\n",
              "    </tr>\n",
              "    <tr>\n",
              "      <th>2</th>\n",
              "      <td>LP001031</td>\n",
              "      <td>Y</td>\n",
              "    </tr>\n",
              "    <tr>\n",
              "      <th>3</th>\n",
              "      <td>LP001035</td>\n",
              "      <td>Y</td>\n",
              "    </tr>\n",
              "    <tr>\n",
              "      <th>4</th>\n",
              "      <td>LP001051</td>\n",
              "      <td>Y</td>\n",
              "    </tr>\n",
              "    <tr>\n",
              "      <th>...</th>\n",
              "      <td>...</td>\n",
              "      <td>...</td>\n",
              "    </tr>\n",
              "    <tr>\n",
              "      <th>362</th>\n",
              "      <td>LP002971</td>\n",
              "      <td>Y</td>\n",
              "    </tr>\n",
              "    <tr>\n",
              "      <th>363</th>\n",
              "      <td>LP002975</td>\n",
              "      <td>Y</td>\n",
              "    </tr>\n",
              "    <tr>\n",
              "      <th>364</th>\n",
              "      <td>LP002980</td>\n",
              "      <td>Y</td>\n",
              "    </tr>\n",
              "    <tr>\n",
              "      <th>365</th>\n",
              "      <td>LP002986</td>\n",
              "      <td>Y</td>\n",
              "    </tr>\n",
              "    <tr>\n",
              "      <th>366</th>\n",
              "      <td>LP002989</td>\n",
              "      <td>Y</td>\n",
              "    </tr>\n",
              "  </tbody>\n",
              "</table>\n",
              "<p>367 rows × 2 columns</p>\n",
              "</div>"
            ],
            "text/plain": [
              "       LoanId LoanStatus\n",
              "0    LP001015          Y\n",
              "1    LP001022          Y\n",
              "2    LP001031          Y\n",
              "3    LP001035          Y\n",
              "4    LP001051          Y\n",
              "..        ...        ...\n",
              "362  LP002971          Y\n",
              "363  LP002975          Y\n",
              "364  LP002980          Y\n",
              "365  LP002986          Y\n",
              "366  LP002989          Y\n",
              "\n",
              "[367 rows x 2 columns]"
            ]
          },
          "metadata": {
            "tags": []
          },
          "execution_count": 52
        }
      ]
    },
    {
      "cell_type": "code",
      "metadata": {
        "id": "oVMuxB3UnR54",
        "colab_type": "code",
        "colab": {
          "base_uri": "https://localhost:8080/",
          "height": 204
        },
        "outputId": "f42016b9-c566-4199-98bb-c0c529fd3671"
      },
      "source": [
        "XGBOOST_predict.head()"
      ],
      "execution_count": 53,
      "outputs": [
        {
          "output_type": "execute_result",
          "data": {
            "text/html": [
              "<div>\n",
              "<style scoped>\n",
              "    .dataframe tbody tr th:only-of-type {\n",
              "        vertical-align: middle;\n",
              "    }\n",
              "\n",
              "    .dataframe tbody tr th {\n",
              "        vertical-align: top;\n",
              "    }\n",
              "\n",
              "    .dataframe thead th {\n",
              "        text-align: right;\n",
              "    }\n",
              "</style>\n",
              "<table border=\"1\" class=\"dataframe\">\n",
              "  <thead>\n",
              "    <tr style=\"text-align: right;\">\n",
              "      <th></th>\n",
              "      <th>LoanId</th>\n",
              "      <th>LoanStatus</th>\n",
              "    </tr>\n",
              "  </thead>\n",
              "  <tbody>\n",
              "    <tr>\n",
              "      <th>0</th>\n",
              "      <td>LP001015</td>\n",
              "      <td>Y</td>\n",
              "    </tr>\n",
              "    <tr>\n",
              "      <th>1</th>\n",
              "      <td>LP001022</td>\n",
              "      <td>Y</td>\n",
              "    </tr>\n",
              "    <tr>\n",
              "      <th>2</th>\n",
              "      <td>LP001031</td>\n",
              "      <td>Y</td>\n",
              "    </tr>\n",
              "    <tr>\n",
              "      <th>3</th>\n",
              "      <td>LP001035</td>\n",
              "      <td>Y</td>\n",
              "    </tr>\n",
              "    <tr>\n",
              "      <th>4</th>\n",
              "      <td>LP001051</td>\n",
              "      <td>Y</td>\n",
              "    </tr>\n",
              "  </tbody>\n",
              "</table>\n",
              "</div>"
            ],
            "text/plain": [
              "     LoanId LoanStatus\n",
              "0  LP001015          Y\n",
              "1  LP001022          Y\n",
              "2  LP001031          Y\n",
              "3  LP001035          Y\n",
              "4  LP001051          Y"
            ]
          },
          "metadata": {
            "tags": []
          },
          "execution_count": 53
        }
      ]
    },
    {
      "cell_type": "code",
      "metadata": {
        "id": "l62JW8J8n10M",
        "colab_type": "code",
        "colab": {}
      },
      "source": [
        "logireg_predict.to_csv('LLogiReg.csv',index=False)"
      ],
      "execution_count": 54,
      "outputs": []
    },
    {
      "cell_type": "code",
      "metadata": {
        "id": "bmX8t6fso_Q7",
        "colab_type": "code",
        "colab": {}
      },
      "source": [
        "SVC_predict.to_csv('SVC.csv',index=False)"
      ],
      "execution_count": 55,
      "outputs": []
    },
    {
      "cell_type": "code",
      "metadata": {
        "id": "_FusOQgcpYgA",
        "colab_type": "code",
        "colab": {}
      },
      "source": [
        "randomforest_predict.to_csv('RandomForest.csv',index=False)"
      ],
      "execution_count": 56,
      "outputs": []
    },
    {
      "cell_type": "code",
      "metadata": {
        "id": "JHOmBNpZp94a",
        "colab_type": "code",
        "colab": {}
      },
      "source": [
        "XGBOOST_predict.to_csv('XGBOOST.csv',index=False)"
      ],
      "execution_count": 57,
      "outputs": []
    },
    {
      "cell_type": "code",
      "metadata": {
        "id": "aaEeLeXtqGzq",
        "colab_type": "code",
        "colab": {}
      },
      "source": [
        ""
      ],
      "execution_count": null,
      "outputs": []
    }
  ]
}